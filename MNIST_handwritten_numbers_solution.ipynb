{
  "nbformat": 4,
  "nbformat_minor": 0,
  "metadata": {
    "colab": {
      "name": "MNIST_handwritten_numbers_solution.ipynb",
      "version": "0.3.2",
      "provenance": [],
      "toc_visible": true
    },
    "kernelspec": {
      "display_name": "Python 2",
      "language": "python",
      "name": "python2"
    }
  },
  "cells": [
    {
      "metadata": {
        "id": "S6TF9YLFTJHQ",
        "colab_type": "text"
      },
      "cell_type": "markdown",
      "source": [
        "# Welcome to image recognition tutorial - solution\n",
        "\n",
        "This is the solution to the image recognition tutorial.\n",
        "Please run each cell sequentially.\n",
        "\n",
        "### MNIST from scratch\n",
        "\n",
        "This notebook walks through an example of training a TensorFlow model to do digit classification using the [MNIST data set](http://yann.lecun.com/exdb/mnist/). MNIST is a labeled set of images of handwritten digits.\n",
        "\n",
        "An example follows."
      ]
    },
    {
      "metadata": {
        "ExecuteTime": {
          "end_time": "2016-09-16T14:49:20.863031",
          "start_time": "2016-09-16T14:49:20.818734"
        },
        "cellView": "both",
        "colab_type": "code",
        "id": "sbUKaF8_uDI_",
        "outputId": "7c0ef1f1-0f29-4df1-f0c1-56562ba58853",
        "colab": {
          "base_uri": "https://localhost:8080/",
          "height": 86
        }
      },
      "cell_type": "code",
      "source": [
        "from __future__ import print_function\n",
        "\n",
        "from IPython.display import Image\n",
        "import base64\n",
        "Image(data=base64.decodestring(\"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\".encode('utf-8')), embed=True)"
      ],
      "execution_count": 0,
      "outputs": [
        {
          "output_type": "execute_result",
          "data": {
            "image/png": "[encoded data removed]",
            "text/plain": [
              "<IPython.core.display.Image object>"
            ]
          },
          "metadata": {
            "tags": []
          },
          "execution_count": 21
        }
      ]
    },
    {
      "metadata": {
        "colab_type": "text",
        "id": "J0QZYD_HuDJF"
      },
      "cell_type": "markdown",
      "source": [
        "We're going to be building a model that recognizes these digits as 5, 0, and 4.\n",
        "\n",
        "# Imports and input data\n",
        "\n",
        "We'll proceed in steps, beginning with importing and inspecting the MNIST data. This doesn't have anything to do with TensorFlow in particular -- we're just downloading the data archive."
      ]
    },
    {
      "metadata": {
        "ExecuteTime": {
          "end_time": "2016-09-16T14:49:20.958307",
          "start_time": "2016-09-16T14:49:20.864840"
        },
        "cellView": "both",
        "colab_type": "code",
        "id": "w5vKZqr6CDz9",
        "outputId": "00592629-e895-4726-f27d-3901f65c0c5c",
        "colab": {
          "base_uri": "https://localhost:8080/",
          "height": 85
        }
      },
      "cell_type": "code",
      "source": [
        "import os\n",
        "from six.moves.urllib.request import urlretrieve\n",
        "\n",
        "SOURCE_URL = 'https://storage.googleapis.com/cvdf-datasets/mnist/'\n",
        "#SOURCE_URL = 'http://yann.lecun.com/exdb/mnist/'\n",
        "# for those who have no access to google storage, use lecun's repo please\n",
        "WORK_DIRECTORY = \"/tmp/mnist-data\"\n",
        "\n",
        "def maybe_download(filename):\n",
        "    \"\"\"A helper to download the data files if not present.\"\"\"\n",
        "    if not os.path.exists(WORK_DIRECTORY):\n",
        "        os.mkdir(WORK_DIRECTORY)\n",
        "    filepath = os.path.join(WORK_DIRECTORY, filename)\n",
        "    if not os.path.exists(filepath):\n",
        "        filepath, _ = urlretrieve(SOURCE_URL + filename, filepath)\n",
        "        statinfo = os.stat(filepath)\n",
        "        print('Successfully downloaded', filename, statinfo.st_size, 'bytes.')\n",
        "    else:\n",
        "        print('Already downloaded', filename)\n",
        "    return filepath\n",
        "\n",
        "train_data_filename = maybe_download('train-images-idx3-ubyte.gz')\n",
        "train_labels_filename = maybe_download('train-labels-idx1-ubyte.gz')\n",
        "test_data_filename = maybe_download('t10k-images-idx3-ubyte.gz')\n",
        "test_labels_filename = maybe_download('t10k-labels-idx1-ubyte.gz')"
      ],
      "execution_count": 0,
      "outputs": [
        {
          "output_type": "stream",
          "text": [
            "Already downloaded train-images-idx3-ubyte.gz\n",
            "Already downloaded train-labels-idx1-ubyte.gz\n",
            "Already downloaded t10k-images-idx3-ubyte.gz\n",
            "Already downloaded t10k-labels-idx1-ubyte.gz\n"
          ],
          "name": "stdout"
        }
      ]
    },
    {
      "metadata": {
        "id": "u3z0lYOkTJHp",
        "colab_type": "text"
      },
      "cell_type": "markdown",
      "source": [
        "#### Display a handwritten image\n",
        "Let us have a look at one of the handwritten numbers in the dataset. \n",
        "The code below display one of the handwritten numbers - 7.\n",
        "The image is in 28x28 pixel scale - that's why it's blury."
      ]
    },
    {
      "metadata": {
        "ExecuteTime": {
          "end_time": "2016-09-16T14:49:22.525418",
          "start_time": "2016-09-16T14:49:22.114324"
        },
        "cellView": "both",
        "colab_type": "code",
        "id": "F_5w-cOoNLaG",
        "outputId": "2438ac5c-5524-4095-9b21-bb7ca7e7113e",
        "colab": {
          "base_uri": "https://localhost:8080/",
          "height": 336
        }
      },
      "cell_type": "code",
      "source": [
        "%matplotlib inline\n",
        "import gzip, binascii, struct, numpy\n",
        "import matplotlib.pyplot as plt\n",
        "\n",
        "with gzip.open(test_data_filename) as f:\n",
        "    # Print the header fields.\n",
        "    for field in ['magic number', 'image count', 'rows', 'columns']:\n",
        "        # struct.unpack reads the binary data provided by f.read.\n",
        "        # The format string '>i' decodes a big-endian integer, which\n",
        "        # is the encoding of the data.\n",
        "        print(field, struct.unpack('>i', f.read(4))[0])\n",
        "    \n",
        "    # Read the first 28x28 set of pixel values. \n",
        "    # Each pixel is one byte, [0, 255], a uint8.\n",
        "    buf = f.read(28 * 28)\n",
        "    image = numpy.frombuffer(buf, dtype=numpy.uint8)\n",
        "\n",
        "# We'll show the image and its pixel value histogram side-by-side.\n",
        "_, (ax1, ax2) = plt.subplots(1, 2)\n",
        "\n",
        "# To interpret the values as a 28x28 image, we need to reshape\n",
        "# the numpy array, which is one dimensional.\n",
        "ax1.imshow(image.reshape(28, 28), cmap=plt.cm.Greys);\n",
        "\n",
        "ax2.hist(image, bins=20, range=[0,255]);"
      ],
      "execution_count": 0,
      "outputs": [
        {
          "output_type": "stream",
          "text": [
            "magic number 2051\n",
            "image count 10000\n",
            "rows 28\n",
            "columns 28\n"
          ],
          "name": "stdout"
        },
        {
          "output_type": "display_data",
          "data": {
            "image/png": "[encoded data removed]",
            "text/plain": [
              "<Figure size 432x288 with 2 Axes>"
            ]
          },
          "metadata": {
            "tags": []
          }
        }
      ]
    },
    {
      "metadata": {
        "colab_type": "text",
        "id": "weVoVR-nN0cN"
      },
      "cell_type": "markdown",
      "source": [
        "The large number of 0 values correspond to the background of the image, another large mass of value 255 is black, and a mix of grayscale transition values in between.\n",
        "\n",
        "Both the image and histogram look sensible. But, it's good practice when training image models to normalize values to be centered around 0.\n",
        "\n",
        "We'll do that next. The normalization code is fairly short, and it may be tempting to assume we haven't made mistakes, but we'll double-check by looking at the rendered input and histogram again. Malformed inputs are a surprisingly common source of errors when developing new models."
      ]
    },
    {
      "metadata": {
        "colab_type": "text",
        "id": "zAGrQSXCQtIm"
      },
      "cell_type": "markdown",
      "source": [
        "## Forming the training, testing, and validation data sets\n",
        "\n",
        "Now that we understand how to read a single element, we can read a much larger set that we'll use for training, testing, and validation.\n",
        "\n",
        "### Image data\n",
        "\n",
        "The code below is a generalization of our prototyping above that reads the entire test and training data set.\n",
        "The pixel values are rescaled from [0, 255] down to [0, 1]\n"
      ]
    },
    {
      "metadata": {
        "ExecuteTime": {
          "end_time": "2016-09-16T14:49:23.525119",
          "start_time": "2016-09-16T14:49:22.928289"
        },
        "cellView": "both",
        "colab_type": "code",
        "id": "ofFZ5oJeRMDA",
        "outputId": "9366dff9-a71a-4a11-fc9c-62c805474837",
        "colab": {
          "base_uri": "https://localhost:8080/",
          "height": 102
        }
      },
      "cell_type": "code",
      "source": [
        "IMAGE_SIZE = 28\n",
        "PIXEL_DEPTH = 255\n",
        "\n",
        "def extract_data(filename, num_images):\n",
        "    \"\"\"Extract the images into a 4D tensor [image index, y, x, channels].\n",
        "  \n",
        "    For MNIST data, the number of channels is always 1.\n",
        "\n",
        "    Values are rescaled from [0, 255] down to [0, 1].\n",
        "    \"\"\"\n",
        "    print('Extracting', filename)\n",
        "    with gzip.open(filename) as bytestream:\n",
        "        # Skip the magic number and dimensions; we know these values.\n",
        "        bytestream.read(16)\n",
        "\n",
        "        buf = bytestream.read(IMAGE_SIZE * IMAGE_SIZE * num_images)\n",
        "        data = numpy.frombuffer(buf, dtype=numpy.uint8).astype(numpy.float32)\n",
        "        data = (data - 0) / (255 - 0)\n",
        "        print(data)\n",
        "        data = data.reshape(num_images, IMAGE_SIZE, IMAGE_SIZE, 1)\n",
        "\n",
        "        return data\n",
        "\n",
        "train_data = extract_data(train_data_filename, 60000)\n",
        "test_data = extract_data(test_data_filename, 10000)"
      ],
      "execution_count": 0,
      "outputs": [
        {
          "output_type": "stream",
          "text": [
            "/tmp/mnist-data/train-images-idx3-ubyte.gz\n",
            "Extracting /tmp/mnist-data/train-images-idx3-ubyte.gz\n",
            "[0. 0. 0. ... 0. 0. 0.]\n",
            "Extracting /tmp/mnist-data/t10k-images-idx3-ubyte.gz\n",
            "[0. 0. 0. ... 0. 0. 0.]\n"
          ],
          "name": "stdout"
        }
      ]
    },
    {
      "metadata": {
        "colab_type": "text",
        "id": "0x4rwXxUR96O"
      },
      "cell_type": "markdown",
      "source": [
        "A crucial difference here is how we `reshape` the array of pixel values. Instead of one image that's 28x28, we now have a set of 60,000 images, each one being 28x28. We also include a number of channels, which for grayscale images as we have here is 1.\n",
        "\n",
        "Let's make sure we've got the reshaping parameters right by inspecting the dimensions and the first two images. (Again, mangled input is a very common source of errors.)"
      ]
    },
    {
      "metadata": {
        "colab_type": "text",
        "id": "PBCB9aYxRvBi"
      },
      "cell_type": "markdown",
      "source": [
        "### Label data\n",
        "\n",
        "Let's move on to loading the full set of labels. As is typical in classification problems, we'll convert our input labels into a [1-hot](https://en.wikipedia.org/wiki/One-hot) encoding over a length 10 vector corresponding to 10 digits. The vector [0, 1, 0, 0, 0, 0, 0, 0, 0, 0], for example, would correspond to the digit 1."
      ]
    },
    {
      "metadata": {
        "ExecuteTime": {
          "end_time": "2016-09-16T14:49:23.854577",
          "start_time": "2016-09-16T14:49:23.831545"
        },
        "cellView": "both",
        "colab_type": "code",
        "id": "9pK1j2WlRwY9",
        "outputId": "0e92a391-7a07-4ef7-82f5-2021b0253c81",
        "colab": {
          "base_uri": "https://localhost:8080/",
          "height": 51
        }
      },
      "cell_type": "code",
      "source": [
        "NUM_LABELS = 10\n",
        "\n",
        "def extract_labels(filename, num_images):\n",
        "    \"\"\"Extract the labels into a 1-hot matrix [image index, label index].\"\"\"\n",
        "    print('Extracting', filename)\n",
        "    with gzip.open(filename) as bytestream:\n",
        "        # Skip the magic number and count; we know these values.\n",
        "        bytestream.read(8)\n",
        "        buf = bytestream.read(1 * num_images)\n",
        "        labels = numpy.frombuffer(buf, dtype=numpy.uint8)\n",
        "    # Convert to dense 1-hot representation.\n",
        "    return (numpy.arange(NUM_LABELS) == labels[:, None]).astype(numpy.float32)\n",
        "\n",
        "train_labels = extract_labels(train_labels_filename, 60000)\n",
        "test_labels = extract_labels(test_labels_filename, 10000)"
      ],
      "execution_count": 0,
      "outputs": [
        {
          "output_type": "stream",
          "text": [
            "Extracting /tmp/mnist-data/train-labels-idx1-ubyte.gz\n",
            "Extracting /tmp/mnist-data/t10k-labels-idx1-ubyte.gz\n"
          ],
          "name": "stdout"
        }
      ]
    },
    {
      "metadata": {
        "colab_type": "text",
        "id": "hb3Vaq72UUxW"
      },
      "cell_type": "markdown",
      "source": [
        "As with our image data, we'll double-check that our 1-hot encoding of the first few values matches our expectations."
      ]
    },
    {
      "metadata": {
        "ExecuteTime": {
          "end_time": "2016-09-16T14:49:23.864350",
          "start_time": "2016-09-16T14:49:23.857177"
        },
        "cellView": "both",
        "colab_type": "code",
        "id": "uEBID71nUVj1",
        "outputId": "2fe66a65-725c-4b52-8076-8bdba4dcbbd0",
        "colab": {
          "base_uri": "https://localhost:8080/",
          "height": 68
        }
      },
      "cell_type": "code",
      "source": [
        "print('Training labels shape', train_labels.shape)\n",
        "print('First label vector', train_labels[0])\n",
        "print('Second label vector', train_labels[1])"
      ],
      "execution_count": 0,
      "outputs": [
        {
          "output_type": "stream",
          "text": [
            "Training labels shape (60000, 10)\n",
            "First label vector [0. 0. 0. 0. 0. 1. 0. 0. 0. 0.]\n",
            "Second label vector [1. 0. 0. 0. 0. 0. 0. 0. 0. 0.]\n"
          ],
          "name": "stdout"
        }
      ]
    },
    {
      "metadata": {
        "colab_type": "text",
        "id": "5EwtEhxRUneF"
      },
      "cell_type": "markdown",
      "source": [
        "The 1-hot encoding looks reasonable.\n",
        "\n",
        "### Segmenting data into training, test, and validation\n",
        "\n",
        "The final step in preparing our data is to split it into three sets: training, test, and validation. This isn't the format of the original data set, so we'll take a small slice of the training data and treat that as our validation set."
      ]
    },
    {
      "metadata": {
        "ExecuteTime": {
          "end_time": "2016-09-16T14:49:23.874014",
          "start_time": "2016-09-16T14:49:23.866161"
        },
        "cellView": "both",
        "colab_type": "code",
        "id": "e7aBYBtIVxHE",
        "outputId": "2b0aa4a5-a0e9-4c2a-c250-b2eda5286764",
        "colab": {
          "base_uri": "https://localhost:8080/",
          "height": 51
        }
      },
      "cell_type": "code",
      "source": [
        "VALIDATION_SIZE = 5000\n",
        "\n",
        "validation_data = train_data[:VALIDATION_SIZE, :, :, :]\n",
        "validation_labels = train_labels[:VALIDATION_SIZE]\n",
        "train_data = train_data[VALIDATION_SIZE:, :, :, :]\n",
        "train_labels = train_labels[VALIDATION_SIZE:]\n",
        "\n",
        "train_size = train_labels.shape[0]\n",
        "\n",
        "print('Validation shape', validation_data.shape)\n",
        "print('Train size', train_size)"
      ],
      "execution_count": 0,
      "outputs": [
        {
          "output_type": "stream",
          "text": [
            "Validation shape (5000, 28, 28, 1)\n",
            "Train size 55000\n"
          ],
          "name": "stdout"
        }
      ]
    },
    {
      "metadata": {
        "colab_type": "text",
        "id": "1JFhEH8EVj4O"
      },
      "cell_type": "markdown",
      "source": [
        "# Defining the model\n",
        "\n",
        "Now that we've prepared our data, we're ready to define our model.\n",
        "\n",
        "The comments describe the architecture, which fairly typical of models that process image data. The raw input passes through several [convolution](https://en.wikipedia.org/wiki/Convolutional_neural_network#Convolutional_layer) and [max pooling](https://en.wikipedia.org/wiki/Convolutional_neural_network#Pooling_layer) layers with [rectified linear](https://en.wikipedia.org/wiki/Convolutional_neural_network#ReLU_layer) activations before several fully connected layers and a [softmax](https://en.wikipedia.org/wiki/Convolutional_neural_network#Loss_layer) loss for predicting the output class. During training, we use [dropout](https://en.wikipedia.org/wiki/Convolutional_neural_network#Dropout_method).\n",
        "\n",
        "We'll separate our model definition into three steps:\n",
        "\n",
        "1. Defining the variables that will hold the trainable weights.\n",
        "1. Defining the basic model graph structure described above. And,\n",
        "1. Stamping out several copies of the model graph for training, testing, and validation.\n",
        "\n",
        "We'll start with the variables."
      ]
    },
    {
      "metadata": {
        "ExecuteTime": {
          "end_time": "2016-09-16T14:49:28.803525",
          "start_time": "2016-09-16T14:49:23.875999"
        },
        "cellView": "both",
        "colab_type": "code",
        "id": "Q1VfiAzjzuK8",
        "outputId": "3066e4ca-3eeb-4e59-c455-90e4d4cf6d56",
        "colab": {
          "base_uri": "https://localhost:8080/",
          "height": 34
        }
      },
      "cell_type": "code",
      "source": [
        "import tensorflow as tf\n",
        "\n",
        "# We'll bundle groups of examples during training for efficiency.\n",
        "# This defines the size of the batch.\n",
        "BATCH_SIZE = 60\n",
        "# We have only one channel in our grayscale images.\n",
        "NUM_CHANNELS = 1\n",
        "# The random seed that defines initialization.\n",
        "SEED = 42\n",
        "\n",
        "# This is where training samples and labels are fed to the graph.\n",
        "# These placeholder nodes will be fed a batch of training data at each\n",
        "# training step, which we'll write once we define the graph structure.\n",
        "train_data_node = tf.placeholder(\n",
        "  tf.float32,\n",
        "  shape=(BATCH_SIZE, IMAGE_SIZE, IMAGE_SIZE, NUM_CHANNELS))\n",
        "train_labels_node = tf.placeholder(tf.float32,\n",
        "                                   shape=(BATCH_SIZE, NUM_LABELS))\n",
        "\n",
        "# For the validation and test data, we'll just hold the entire dataset in\n",
        "# one constant node.\n",
        "validation_data_node = tf.constant(validation_data)\n",
        "test_data_node = tf.constant(test_data)\n",
        "\n",
        "# The variables below hold all the trainable weights. For each, the\n",
        "# parameter defines how the variables will be initialized.\n",
        "conv1_weights = tf.Variable(\n",
        "  tf.truncated_normal([5, 5, NUM_CHANNELS, 32],  # 5x5 filter, depth 32.\n",
        "                      stddev=0.1,\n",
        "                      seed=SEED))\n",
        "conv1_biases = tf.Variable(tf.zeros([32]))\n",
        "conv2_weights = tf.Variable(\n",
        "  tf.truncated_normal([5, 5, 32, 128],\n",
        "                      stddev=0.1,\n",
        "                      seed=SEED))\n",
        "conv2_biases = tf.Variable(tf.constant(0.1, shape=[128]))\n",
        "fc1_weights = tf.Variable(  # fully connected, depth 512.\n",
        "  tf.truncated_normal([IMAGE_SIZE // 4 * IMAGE_SIZE // 4 * 128, 512],\n",
        "                      stddev=0.1,\n",
        "                      seed=SEED))\n",
        "fc1_biases = tf.Variable(tf.constant(0.1, shape=[512]))\n",
        "fc2_weights = tf.Variable(\n",
        "  tf.truncated_normal([512, NUM_LABELS],\n",
        "                      stddev=0.1,\n",
        "                      seed=SEED))\n",
        "fc2_biases = tf.Variable(tf.constant(0.1, shape=[NUM_LABELS]))\n",
        "\n",
        "print('Done')"
      ],
      "execution_count": 0,
      "outputs": [
        {
          "output_type": "stream",
          "text": [
            "Done\n"
          ],
          "name": "stdout"
        }
      ]
    },
    {
      "metadata": {
        "colab_type": "text",
        "id": "QHB_u04Z4HO6"
      },
      "cell_type": "markdown",
      "source": [
        "Now that we've defined the variables to be trained, we're ready to wire them together into a TensorFlow graph.\n",
        "\n",
        "We'll define a helper to do this, `model`, which will return copies of the graph suitable for training and testing. Note the `train` argument, which controls whether or not dropout is used in the hidden layer. (We want to use dropout only during training.)"
      ]
    },
    {
      "metadata": {
        "ExecuteTime": {
          "end_time": "2016-09-16T14:49:28.834326",
          "start_time": "2016-09-16T14:49:28.805723"
        },
        "cellView": "both",
        "colab_type": "code",
        "id": "V85_B9QF3uBp",
        "outputId": "356e16e7-5266-4266-930c-f2cff20caa03",
        "colab": {
          "base_uri": "https://localhost:8080/",
          "height": 34
        }
      },
      "cell_type": "code",
      "source": [
        "def model(data, train=False):\n",
        "    \"\"\"The Model definition.\"\"\"\n",
        "    # 2D convolution, with 'SAME' padding (i.e. the output feature map has\n",
        "    # the same size as the input). Note that {strides} is a 4D array whose\n",
        "    # shape matches the data layout: [image index, y, x, depth].\n",
        "    conv = tf.nn.conv2d(data,\n",
        "                        conv1_weights,\n",
        "                        strides=[1, 1, 1, 1],\n",
        "                        padding='SAME')\n",
        "\n",
        "    # Bias and rectified linear non-linearity.\n",
        "    relu = tf.nn.relu(tf.nn.bias_add(conv, conv1_biases))\n",
        "\n",
        "    # Max pooling. The kernel size spec ksize also follows the layout of\n",
        "    # the data. Here we have a pooling window of 2, and a stride of 2.\n",
        "    pool = tf.nn.max_pool(relu,\n",
        "                          ksize=[1, 2, 2, 1],\n",
        "                          strides=[1, 2, 2, 1],\n",
        "                          padding='SAME')\n",
        "    conv = tf.nn.conv2d(pool,\n",
        "                        conv2_weights,\n",
        "                        strides=[1, 1, 1, 1],\n",
        "                        padding='SAME')\n",
        "    relu = tf.nn.relu(tf.nn.bias_add(conv, conv2_biases))\n",
        "    pool = tf.nn.max_pool(relu,\n",
        "                          ksize=[1, 2, 2, 1],\n",
        "                          strides=[1, 2, 2, 1],\n",
        "                          padding='SAME')\n",
        "\n",
        "    # Reshape the feature map cuboid into a 2D matrix to feed it to the\n",
        "    # fully connected layers.\n",
        "    pool_shape = pool.get_shape().as_list()\n",
        "    reshape = tf.reshape(\n",
        "        pool,\n",
        "        [pool_shape[0], pool_shape[1] * pool_shape[2] * pool_shape[3]])\n",
        "  \n",
        "    # Fully connected layer. Note that the '+' operation automatically\n",
        "    # broadcasts the biases.\n",
        "    hidden = tf.nn.relu(tf.matmul(reshape, fc1_weights) + fc1_biases)\n",
        "\n",
        "    # Add a 50% dropout during training only. Dropout also scales\n",
        "    # activations such that no rescaling is needed at evaluation time.\n",
        "    if train:\n",
        "        hidden = tf.nn.dropout(hidden, 0.5, seed=SEED)\n",
        "    return tf.matmul(hidden, fc2_weights) + fc2_biases\n",
        "\n",
        "print('Done')"
      ],
      "execution_count": 0,
      "outputs": [
        {
          "output_type": "stream",
          "text": [
            "Done\n"
          ],
          "name": "stdout"
        }
      ]
    },
    {
      "metadata": {
        "colab_type": "text",
        "id": "7bvEtt8C4fLC"
      },
      "cell_type": "markdown",
      "source": [
        "Having defined the basic structure of the graph, we're ready to stamp out multiple copies for training, testing, and validation.\n",
        "\n",
        "Here, we'll do some customizations depending on which graph we're constructing. `train_prediction` holds the training graph, for which we use cross-entropy loss and weight regularization. We'll adjust the learning rate during training -- that's handled by the `exponential_decay` operation, which is itself an argument to the `MomentumOptimizer` that performs the actual training.\n",
        "\n",
        "The validation and prediction graphs are much simpler to generate -- we need only create copies of the model with the validation and test inputs and a softmax classifier as the output."
      ]
    },
    {
      "metadata": {
        "ExecuteTime": {
          "end_time": "2016-09-16T14:49:29.058141",
          "start_time": "2016-09-16T14:49:28.836169"
        },
        "cellView": "both",
        "colab_type": "code",
        "id": "9pR1EBNT3sCv",
        "outputId": "bc23b14f-c9c1-46b4-9aa6-4266043b2e68",
        "scrolled": true,
        "colab": {
          "base_uri": "https://localhost:8080/",
          "height": 34
        }
      },
      "cell_type": "code",
      "source": [
        "# Training computation: logits + cross-entropy loss.\n",
        "logits = model(train_data_node, True)\n",
        "loss = tf.reduce_mean(tf.nn.softmax_cross_entropy_with_logits_v2(\n",
        "  labels=train_labels_node, logits=logits))\n",
        "\n",
        "# L2 regularization for the fully connected parameters.\n",
        "regularizers = (tf.nn.l2_loss(fc1_weights) + tf.nn.l2_loss(fc1_biases) +\n",
        "                tf.nn.l2_loss(fc2_weights) + tf.nn.l2_loss(fc2_biases))\n",
        "# Add the regularization term to the loss.\n",
        "loss += 5e-4 * regularizers\n",
        "\n",
        "# Optimizer: set up a variable that's incremented once per batch and\n",
        "# controls the learning rate decay.\n",
        "batch = tf.Variable(0)\n",
        "# Decay once per epoch, using an exponential schedule starting at 0.01.\n",
        "learning_rate = tf.train.exponential_decay(\n",
        "  0.01,                # Base learning rate.\n",
        "  batch * BATCH_SIZE,  # Current index into the dataset.\n",
        "  train_size,          # Decay step.\n",
        "  0.95,                # Decay rate.\n",
        "  staircase=True)\n",
        "# Use simple momentum for the optimization.\n",
        "optimizer = tf.train.MomentumOptimizer(learning_rate,\n",
        "                                       0.9).minimize(loss,\n",
        "                                                     global_step=batch)\n",
        "\n",
        "# Predictions for the minibatch, validation set and test set.\n",
        "train_prediction = tf.nn.softmax(logits)\n",
        "# We'll compute them only once in a while by calling their {eval()} method.\n",
        "validation_prediction = tf.nn.softmax(model(validation_data_node))\n",
        "test_prediction = tf.nn.softmax(model(test_data_node))\n",
        "\n",
        "print('Done')"
      ],
      "execution_count": 0,
      "outputs": [
        {
          "output_type": "stream",
          "text": [
            "Done\n"
          ],
          "name": "stdout"
        }
      ]
    },
    {
      "metadata": {
        "colab_type": "text",
        "id": "4T21uZJq5UfH"
      },
      "cell_type": "markdown",
      "source": [
        "# Training and visualizing results\n",
        "\n",
        "Now that we have the training, test, and validation graphs, we're ready to actually go through the training loop and periodically evaluate loss and error.\n",
        "\n",
        "All of these operations take place in the context of a session. In Python, we'd write something like:\n",
        "\n",
        "    with tf.Session() as s:\n",
        "      ...training / test / evaluation loop...\n",
        "  \n",
        "But, here, we'll want to keep the session open so we can poke at values as we work out the details of training. The TensorFlow API includes a function for this, `InteractiveSession`.\n",
        "\n",
        "We'll start by creating a session and initializing the variables we defined above."
      ]
    },
    {
      "metadata": {
        "ExecuteTime": {
          "end_time": "2016-09-16T14:49:29.357483",
          "start_time": "2016-09-16T14:49:29.059952"
        },
        "cellView": "both",
        "colab_type": "code",
        "id": "z6Kc5iql6qxV",
        "colab": {}
      },
      "cell_type": "code",
      "source": [
        "# Create a new interactive session that we'll use in\n",
        "# subsequent code cells.\n",
        "s = tf.InteractiveSession()\n",
        "\n",
        "# Use our newly created session as the default for \n",
        "# subsequent operations.\n",
        "s.as_default()\n",
        "\n",
        "# Initialize all the variables we defined above.\n",
        "tf.global_variables_initializer().run()"
      ],
      "execution_count": 0,
      "outputs": []
    },
    {
      "metadata": {
        "id": "qfkkE3ByTJJE",
        "colab_type": "text"
      },
      "cell_type": "markdown",
      "source": [
        "### Error rate\n",
        "\n",
        "When performing machine learning, we need something that tell us how the algorithm is performing. \n",
        "This error rate function simply display the error rate in percentage based on correct labelled data."
      ]
    },
    {
      "metadata": {
        "ExecuteTime": {
          "end_time": "2016-09-16T14:49:29.857607",
          "start_time": "2016-09-16T14:49:29.843904"
        },
        "cellView": "both",
        "colab_type": "code",
        "id": "DPJie7bPDaLa",
        "outputId": "e5e02c7d-4189-4010-b6a6-5780687fa97d",
        "colab": {
          "base_uri": "https://localhost:8080/",
          "height": 34
        }
      },
      "cell_type": "code",
      "source": [
        "def error_rate(predictions, labels):\n",
        "    \"\"\"Return the error rate and confusions.\"\"\"\n",
        "    correct = numpy.sum(numpy.argmax(predictions, 1) == numpy.argmax(labels, 1))\n",
        "    total = predictions.shape[0]\n",
        "\n",
        "    error = 100.0 - (100 * float(correct) / float(total))\n",
        "\n",
        "    confusions = numpy.zeros([10, 10], numpy.float32)\n",
        "    bundled = zip(numpy.argmax(predictions, 1), numpy.argmax(labels, 1))\n",
        "    for predicted, actual in bundled:\n",
        "        confusions[predicted, actual] += 1\n",
        "    \n",
        "    return error, confusions\n",
        "\n",
        "print('Done')"
      ],
      "execution_count": 0,
      "outputs": [
        {
          "output_type": "stream",
          "text": [
            "Done\n"
          ],
          "name": "stdout"
        }
      ]
    },
    {
      "metadata": {
        "colab_type": "text",
        "id": "sLv22cjeB5Rd"
      },
      "cell_type": "markdown",
      "source": [
        "We'll need to train for some time to actually see useful predicted values. Let's define a loop that will go through our data. We'll print the loss and error periodically.\n",
        "\n",
        "Here, we want to iterate over the entire data set rather than just the first batch, so we'll need to slice the data to that end.\n",
        "\n",
        "(One pass through our training set will take some time on a CPU, so be patient if you are executing this notebook.)"
      ]
    },
    {
      "metadata": {
        "ExecuteTime": {
          "end_time": "2016-09-16T14:53:26.998313",
          "start_time": "2016-09-16T14:49:29.860079"
        },
        "cellView": "both",
        "colab_type": "code",
        "id": "4cgKJrS1_vej",
        "outputId": "4e2fe498-3107-437c-b290-efc94ce8a871",
        "colab": {
          "base_uri": "https://localhost:8080/",
          "height": 527
        }
      },
      "cell_type": "code",
      "source": [
        "# Train over the first 1/4th of our training set.\n",
        "steps = train_size // BATCH_SIZE\n",
        "for step in range(steps):\n",
        "    # Compute the offset of the current minibatch in the data.\n",
        "    # Note that we could use better randomization across epochs.\n",
        "    offset = (step * BATCH_SIZE) % (train_size - BATCH_SIZE)\n",
        "    batch_data = train_data[offset:(offset + BATCH_SIZE), :, :, :]\n",
        "    batch_labels = train_labels[offset:(offset + BATCH_SIZE)]\n",
        "    # This dictionary maps the batch data (as a numpy array) to the\n",
        "    # node in the graph it should be fed to.\n",
        "    feed_dict = {train_data_node: batch_data,\n",
        "                 train_labels_node: batch_labels}\n",
        "    # Run the graph and fetch some of the nodes.\n",
        "    _, l, lr, predictions = s.run(\n",
        "      [optimizer, loss, learning_rate, train_prediction],\n",
        "      feed_dict=feed_dict)\n",
        "    \n",
        "    # Print out the loss periodically.\n",
        "    if step % 100 == 0:\n",
        "        error, _ = error_rate(predictions, batch_labels)\n",
        "        print('Step %d of %d' % (step, steps))\n",
        "        print('Mini-batch loss: %.5f Error: %.5f Learning rate: %.5f' % (l, error, lr))\n",
        "        print('Validation error: %.1f%%' % error_rate(\n",
        "              validation_prediction.eval(), validation_labels)[0])\n"
      ],
      "execution_count": 0,
      "outputs": [
        {
          "output_type": "stream",
          "text": [
            "Step 0 of 916\n",
            "Mini-batch loss: 8.89527 Error: 90.00000 Learning rate: 0.01000\n",
            "Validation error: 88.4%\n",
            "Step 100 of 916\n",
            "Mini-batch loss: 3.40488 Error: 10.00000 Learning rate: 0.01000\n",
            "Validation error: 7.3%\n",
            "Step 200 of 916\n",
            "Mini-batch loss: 3.40397 Error: 11.66667 Learning rate: 0.01000\n",
            "Validation error: 3.8%\n",
            "Step 300 of 916\n",
            "Mini-batch loss: 3.12730 Error: 1.66667 Learning rate: 0.01000\n",
            "Validation error: 4.0%\n",
            "Step 400 of 916\n",
            "Mini-batch loss: 3.11405 Error: 3.33333 Learning rate: 0.01000\n",
            "Validation error: 2.9%\n",
            "Step 500 of 916\n",
            "Mini-batch loss: 3.03300 Error: 1.66667 Learning rate: 0.01000\n",
            "Validation error: 2.8%\n",
            "Step 600 of 916\n",
            "Mini-batch loss: 3.00573 Error: 3.33333 Learning rate: 0.01000\n",
            "Validation error: 2.4%\n",
            "Step 700 of 916\n",
            "Mini-batch loss: 3.05857 Error: 6.66667 Learning rate: 0.01000\n",
            "Validation error: 2.5%\n",
            "Step 800 of 916\n",
            "Mini-batch loss: 3.00935 Error: 3.33333 Learning rate: 0.01000\n",
            "Validation error: 2.0%\n",
            "Step 900 of 916\n",
            "Mini-batch loss: 2.86314 Error: 0.00000 Learning rate: 0.01000\n",
            "Validation error: 2.4%\n"
          ],
          "name": "stdout"
        }
      ]
    },
    {
      "metadata": {
        "colab_type": "text",
        "id": "J4LskgGXIDAm"
      },
      "cell_type": "markdown",
      "source": [
        "The error seems to have gone down. Let's evaluate the results using the test set.\n",
        "\n",
        "To help identify rare mispredictions, we'll include the raw count of each (prediction, label) pair in the confusion matrix."
      ]
    },
    {
      "metadata": {
        "ExecuteTime": {
          "end_time": "2016-09-16T14:55:10.942063",
          "start_time": "2016-09-16T14:53:26.999971"
        },
        "cellView": "both",
        "colab_type": "code",
        "id": "6Yh1jGFuIKc_",
        "outputId": "59b31a92-0bec-4ed9-cc43-aeffd62313f3",
        "colab": {
          "base_uri": "https://localhost:8080/",
          "height": 313
        }
      },
      "cell_type": "code",
      "source": [
        "print('Performing predictions om test...')\n",
        "test_error, confusions = error_rate(test_prediction.eval(), test_labels)\n",
        "print('Test error: %.1f%%' % test_error)\n",
        "\n",
        "plt.xlabel('Actual')\n",
        "plt.ylabel('Predicted')\n",
        "plt.grid(False)\n",
        "plt.xticks(numpy.arange(NUM_LABELS))\n",
        "plt.yticks(numpy.arange(NUM_LABELS))\n",
        "plt.imshow(confusions, cmap=plt.cm.jet, interpolation='nearest');\n",
        "\n",
        "for i, cas in enumerate(confusions):\n",
        "    for j, count in enumerate(cas):\n",
        "        if count > 0:\n",
        "            xoff = .07 * len(str(count))\n",
        "            plt.text(j-xoff, i+.2, int(count), fontsize=9, color='white')"
      ],
      "execution_count": 0,
      "outputs": [
        {
          "output_type": "stream",
          "text": [
            "Performing predictions om test...\n",
            "Test error: 2.9%\n"
          ],
          "name": "stdout"
        },
        {
          "output_type": "display_data",
          "data": {
            "image/png": "[encoded data removed]",
            "text/plain": [
              "<Figure size 432x288 with 1 Axes>"
            ]
          },
          "metadata": {
            "tags": []
          }
        }
      ]
    },
    {
      "metadata": {
        "colab_type": "text",
        "id": "yLnS4dGiMwI1"
      },
      "cell_type": "markdown",
      "source": [
        "We can see here that we're mostly accurate, with some errors you might expect, e.g., '9' is often confused as '4'.\n",
        "\n",
        "Let's do another sanity check to make sure this matches roughly the distribution of our test set, e.g., it seems like we have fewer '5' values."
      ]
    },
    {
      "metadata": {
        "ExecuteTime": {
          "end_time": "2016-09-16T14:55:18.083458",
          "start_time": "2016-09-16T14:55:17.830485"
        },
        "cellView": "both",
        "colab_type": "code",
        "id": "x5KOv1AJMgzV",
        "outputId": "11ff7b0b-2f66-446a-d95a-0059a17f953b",
        "colab": {
          "base_uri": "https://localhost:8080/",
          "height": 265
        }
      },
      "cell_type": "code",
      "source": [
        "plt.xticks(numpy.arange(NUM_LABELS))\n",
        "plt.hist(numpy.argmax(test_labels, 1));"
      ],
      "execution_count": 0,
      "outputs": [
        {
          "output_type": "display_data",
          "data": {
            "image/png": "[encoded data removed]",
            "text/plain": [
              "<Figure size 432x288 with 1 Axes>"
            ]
          },
          "metadata": {
            "tags": []
          }
        }
      ]
    },
    {
      "metadata": {
        "colab_type": "text",
        "id": "E6DzLSK5M1ju"
      },
      "cell_type": "markdown",
      "source": [
        "Indeed, we appear to have fewer 5 labels in the test set. So, on the whole, it seems like our model is learning and our early results are sensible.\n",
        "\n",
        "But, we've only done one round of training. We can greatly improve accuracy by training for longer. To try this out, just re-execute the training cell above."
      ]
    }
  ]
}